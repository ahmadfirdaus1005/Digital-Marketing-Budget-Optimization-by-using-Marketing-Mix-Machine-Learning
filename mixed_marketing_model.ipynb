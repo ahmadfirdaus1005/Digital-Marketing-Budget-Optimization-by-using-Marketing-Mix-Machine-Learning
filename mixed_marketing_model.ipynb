{
 "cells": [
  {
   "cell_type": "markdown",
   "id": "ac4bda74-9852-4834-b523-9138e25372e5",
   "metadata": {
    "tags": []
   },
   "source": [
    "# Mixed Marketing Model"
   ]
  },
  {
   "cell_type": "markdown",
   "id": "b96bc2f0-c5f7-4657-a6e0-16909fef7476",
   "metadata": {},
   "source": [
    "A mixed marketing model is a strategy that combines different elements of various marketing models in order to achieve the desired results. This can include elements of both online and offline marketing, such as social media advertising, email marketing, and traditional print and television advertising. The goal of a mixed marketing model is to reach the target audience through multiple channels and to maximize the effectiveness of each channel by utilizing their strengths and addressing their weaknesses."
   ]
  },
  {
   "cell_type": "markdown",
   "id": "43531247-776f-4529-a59e-f7d1f8172a57",
   "metadata": {},
   "source": [
    "Dataset:\n",
    "3 years data of digital marketing spending with channel traffics and estimation of channel spending"
   ]
  },
  {
   "cell_type": "markdown",
   "id": "c2088f97-b272-4a05-8b52-f2181bcc275d",
   "metadata": {},
   "source": [
    "The goal is finding recommended distribution of marketing budgeting to get optimal traffics from various marketing channel channel"
   ]
  },
  {
   "cell_type": "markdown",
   "id": "a74668b7-cc5c-4551-bab8-043007eb268f",
   "metadata": {},
   "source": [
    "## Library"
   ]
  },
  {
   "cell_type": "code",
   "execution_count": 4,
   "id": "a6d58d23-b777-42fe-8e70-9d8453fee40f",
   "metadata": {},
   "outputs": [],
   "source": [
    "# Import libraries we need\n",
    "import pandas as pd\n",
    "import matplotlib.pyplot as plt\n",
    "import seaborn as sns\n",
    "import numpy as np"
   ]
  },
  {
   "cell_type": "markdown",
   "id": "ca1da932-5891-4e3d-93b6-69417be77642",
   "metadata": {},
   "source": [
    "## Data loading and information"
   ]
  },
  {
   "cell_type": "code",
   "execution_count": 5,
   "id": "3d925642-e661-469e-aabf-94ac2f5a687c",
   "metadata": {},
   "outputs": [
    {
     "data": {
      "text/html": [
       "<div>\n",
       "<style scoped>\n",
       "    .dataframe tbody tr th:only-of-type {\n",
       "        vertical-align: middle;\n",
       "    }\n",
       "\n",
       "    .dataframe tbody tr th {\n",
       "        vertical-align: top;\n",
       "    }\n",
       "\n",
       "    .dataframe thead th {\n",
       "        text-align: right;\n",
       "    }\n",
       "</style>\n",
       "<table border=\"1\" class=\"dataframe\">\n",
       "  <thead>\n",
       "    <tr style=\"text-align: right;\">\n",
       "      <th></th>\n",
       "      <th>Date</th>\n",
       "      <th>QuaterX</th>\n",
       "      <th>Channel Traffic</th>\n",
       "      <th>Avg Visit Duration</th>\n",
       "      <th>Pages / Visit</th>\n",
       "      <th>Bounce Rate</th>\n",
       "      <th>Usd Spend</th>\n",
       "      <th>MYR Spend</th>\n",
       "      <th>Cost Per Visits</th>\n",
       "      <th>Total Paid Search</th>\n",
       "      <th>...</th>\n",
       "      <th>Email (%)</th>\n",
       "      <th>Search (%)</th>\n",
       "      <th>Referrals (%)</th>\n",
       "      <th>Social (%)</th>\n",
       "      <th>Total Display Spend</th>\n",
       "      <th>Total Email Spend</th>\n",
       "      <th>Total Search Spend</th>\n",
       "      <th>Total Referrals Spend</th>\n",
       "      <th>Total Social Spend</th>\n",
       "      <th>Estimated Digital Spend</th>\n",
       "    </tr>\n",
       "  </thead>\n",
       "  <tbody>\n",
       "    <tr>\n",
       "      <th>0</th>\n",
       "      <td>43834</td>\n",
       "      <td>Q2, 2020</td>\n",
       "      <td>33.0</td>\n",
       "      <td>00:01:32</td>\n",
       "      <td>4.01</td>\n",
       "      <td>0.0000</td>\n",
       "      <td>1.94</td>\n",
       "      <td>8.043921</td>\n",
       "      <td>0.240617</td>\n",
       "      <td>191</td>\n",
       "      <td>...</td>\n",
       "      <td>0.0</td>\n",
       "      <td>0.0108</td>\n",
       "      <td>0.1360</td>\n",
       "      <td>0.7934</td>\n",
       "      <td>253.49</td>\n",
       "      <td>0.05</td>\n",
       "      <td>45.88</td>\n",
       "      <td>577.12</td>\n",
       "      <td>3366.85</td>\n",
       "      <td>4435</td>\n",
       "    </tr>\n",
       "    <tr>\n",
       "      <th>1</th>\n",
       "      <td>43835</td>\n",
       "      <td>Q2, 2020</td>\n",
       "      <td>1215.0</td>\n",
       "      <td>00:04:23</td>\n",
       "      <td>3.97</td>\n",
       "      <td>0.1194</td>\n",
       "      <td>86.24</td>\n",
       "      <td>357.914980</td>\n",
       "      <td>0.294505</td>\n",
       "      <td>8000</td>\n",
       "      <td>...</td>\n",
       "      <td>0.0</td>\n",
       "      <td>0.1116</td>\n",
       "      <td>0.0755</td>\n",
       "      <td>0.8036</td>\n",
       "      <td>195.92</td>\n",
       "      <td>0.09</td>\n",
       "      <td>2355.95</td>\n",
       "      <td>1594.31</td>\n",
       "      <td>16965.67</td>\n",
       "      <td>29113</td>\n",
       "    </tr>\n",
       "    <tr>\n",
       "      <th>2</th>\n",
       "      <td>43836</td>\n",
       "      <td>Q2, 2020</td>\n",
       "      <td>2175.0</td>\n",
       "      <td>00:03:10</td>\n",
       "      <td>2.76</td>\n",
       "      <td>0.1236</td>\n",
       "      <td>652.59</td>\n",
       "      <td>2708.232699</td>\n",
       "      <td>1.245103</td>\n",
       "      <td>14081</td>\n",
       "      <td>...</td>\n",
       "      <td>0.0</td>\n",
       "      <td>0.1713</td>\n",
       "      <td>0.2603</td>\n",
       "      <td>0.5244</td>\n",
       "      <td>4499.52</td>\n",
       "      <td>2.91</td>\n",
       "      <td>17532.27</td>\n",
       "      <td>26644.24</td>\n",
       "      <td>53670.69</td>\n",
       "      <td>116432</td>\n",
       "    </tr>\n",
       "    <tr>\n",
       "      <th>3</th>\n",
       "      <td>43837</td>\n",
       "      <td>Q3, 2020</td>\n",
       "      <td>2727.0</td>\n",
       "      <td>00:04:12</td>\n",
       "      <td>2.53</td>\n",
       "      <td>0.2809</td>\n",
       "      <td>655.21</td>\n",
       "      <td>2719.102896</td>\n",
       "      <td>0.997229</td>\n",
       "      <td>28496</td>\n",
       "      <td>...</td>\n",
       "      <td>0.0</td>\n",
       "      <td>0.0864</td>\n",
       "      <td>0.5101</td>\n",
       "      <td>0.1621</td>\n",
       "      <td>79412.16</td>\n",
       "      <td>5.09</td>\n",
       "      <td>28417.45</td>\n",
       "      <td>167820.42</td>\n",
       "      <td>53335.14</td>\n",
       "      <td>357488</td>\n",
       "    </tr>\n",
       "    <tr>\n",
       "      <th>4</th>\n",
       "      <td>43838</td>\n",
       "      <td>Q3, 2020</td>\n",
       "      <td>3105.0</td>\n",
       "      <td>00:03:05</td>\n",
       "      <td>2.51</td>\n",
       "      <td>0.4581</td>\n",
       "      <td>325.12</td>\n",
       "      <td>1349.254885</td>\n",
       "      <td>0.434510</td>\n",
       "      <td>24712</td>\n",
       "      <td>...</td>\n",
       "      <td>0.0</td>\n",
       "      <td>0.1400</td>\n",
       "      <td>0.3654</td>\n",
       "      <td>0.3057</td>\n",
       "      <td>14483.37</td>\n",
       "      <td>2.19</td>\n",
       "      <td>10737.68</td>\n",
       "      <td>28023.10</td>\n",
       "      <td>23439.52</td>\n",
       "      <td>101399</td>\n",
       "    </tr>\n",
       "  </tbody>\n",
       "</table>\n",
       "<p>5 rows × 21 columns</p>\n",
       "</div>"
      ],
      "text/plain": [
       "    Date   QuaterX  Channel Traffic Avg Visit Duration  Pages / Visit  \\\n",
       "0  43834  Q2, 2020             33.0           00:01:32           4.01   \n",
       "1  43835  Q2, 2020           1215.0           00:04:23           3.97   \n",
       "2  43836  Q2, 2020           2175.0           00:03:10           2.76   \n",
       "3  43837  Q3, 2020           2727.0           00:04:12           2.53   \n",
       "4  43838  Q3, 2020           3105.0           00:03:05           2.51   \n",
       "\n",
       "   Bounce Rate  Usd Spend    MYR Spend  Cost Per Visits  Total Paid Search  \\\n",
       "0       0.0000       1.94     8.043921         0.240617                191   \n",
       "1       0.1194      86.24   357.914980         0.294505               8000   \n",
       "2       0.1236     652.59  2708.232699         1.245103              14081   \n",
       "3       0.2809     655.21  2719.102896         0.997229              28496   \n",
       "4       0.4581     325.12  1349.254885         0.434510              24712   \n",
       "\n",
       "   ...  Email (%)  Search (%)  Referrals (%)  Social (%)  Total Display Spend  \\\n",
       "0  ...        0.0      0.0108         0.1360      0.7934               253.49   \n",
       "1  ...        0.0      0.1116         0.0755      0.8036               195.92   \n",
       "2  ...        0.0      0.1713         0.2603      0.5244              4499.52   \n",
       "3  ...        0.0      0.0864         0.5101      0.1621             79412.16   \n",
       "4  ...        0.0      0.1400         0.3654      0.3057             14483.37   \n",
       "\n",
       "   Total Email Spend  Total Search Spend  Total Referrals Spend  \\\n",
       "0               0.05               45.88                 577.12   \n",
       "1               0.09             2355.95                1594.31   \n",
       "2               2.91            17532.27               26644.24   \n",
       "3               5.09            28417.45              167820.42   \n",
       "4               2.19            10737.68               28023.10   \n",
       "\n",
       "   Total Social Spend  Estimated Digital Spend  \n",
       "0             3366.85                     4435  \n",
       "1            16965.67                    29113  \n",
       "2            53670.69                   116432  \n",
       "3            53335.14                   357488  \n",
       "4            23439.52                   101399  \n",
       "\n",
       "[5 rows x 21 columns]"
      ]
     },
     "execution_count": 5,
     "metadata": {},
     "output_type": "execute_result"
    }
   ],
   "source": [
    "df = pd.read_excel(\"Marketing_spending.xlsx\")\n",
    "df.head()"
   ]
  },
  {
   "cell_type": "code",
   "execution_count": 6,
   "id": "4a9ec5e5-2693-40e5-9bf9-de2cd1220d5c",
   "metadata": {},
   "outputs": [
    {
     "data": {
      "text/plain": [
       "Index(['Date', 'QuaterX', 'Channel Traffic', 'Avg Visit Duration',\n",
       "       'Pages / Visit', 'Bounce Rate', 'Usd Spend', 'MYR Spend',\n",
       "       'Cost Per Visits', 'Total Paid Search', 'Display (%)', 'Email (%)',\n",
       "       'Search (%)', 'Referrals (%)', 'Social (%)', 'Total Display Spend',\n",
       "       'Total Email Spend', 'Total Search Spend', 'Total Referrals Spend',\n",
       "       'Total Social Spend', 'Estimated Digital Spend'],\n",
       "      dtype='object')"
      ]
     },
     "execution_count": 6,
     "metadata": {},
     "output_type": "execute_result"
    }
   ],
   "source": [
    "df.columns"
   ]
  },
  {
   "cell_type": "code",
   "execution_count": 7,
   "id": "58d3c2bb-fc27-4fa1-8f0c-ca475d1a5cc5",
   "metadata": {},
   "outputs": [
    {
     "data": {
      "text/html": [
       "<div>\n",
       "<style scoped>\n",
       "    .dataframe tbody tr th:only-of-type {\n",
       "        vertical-align: middle;\n",
       "    }\n",
       "\n",
       "    .dataframe tbody tr th {\n",
       "        vertical-align: top;\n",
       "    }\n",
       "\n",
       "    .dataframe thead th {\n",
       "        text-align: right;\n",
       "    }\n",
       "</style>\n",
       "<table border=\"1\" class=\"dataframe\">\n",
       "  <thead>\n",
       "    <tr style=\"text-align: right;\">\n",
       "      <th></th>\n",
       "      <th>Date</th>\n",
       "      <th>Channel Traffic</th>\n",
       "      <th>Pages / Visit</th>\n",
       "      <th>Bounce Rate</th>\n",
       "      <th>Usd Spend</th>\n",
       "      <th>MYR Spend</th>\n",
       "      <th>Cost Per Visits</th>\n",
       "      <th>Total Paid Search</th>\n",
       "      <th>Display (%)</th>\n",
       "      <th>Email (%)</th>\n",
       "      <th>Search (%)</th>\n",
       "      <th>Referrals (%)</th>\n",
       "      <th>Social (%)</th>\n",
       "      <th>Total Display Spend</th>\n",
       "      <th>Total Email Spend</th>\n",
       "      <th>Total Search Spend</th>\n",
       "      <th>Total Referrals Spend</th>\n",
       "      <th>Total Social Spend</th>\n",
       "      <th>Estimated Digital Spend</th>\n",
       "    </tr>\n",
       "  </thead>\n",
       "  <tbody>\n",
       "    <tr>\n",
       "      <th>count</th>\n",
       "      <td>33.000000</td>\n",
       "      <td>33.000000</td>\n",
       "      <td>33.000000</td>\n",
       "      <td>33.000000</td>\n",
       "      <td>33.000000</td>\n",
       "      <td>33.000000</td>\n",
       "      <td>32.000000</td>\n",
       "      <td>33.000000</td>\n",
       "      <td>33.000000</td>\n",
       "      <td>33.000000</td>\n",
       "      <td>33.000000</td>\n",
       "      <td>33.000000</td>\n",
       "      <td>33.000000</td>\n",
       "      <td>33.000000</td>\n",
       "      <td>33.000000</td>\n",
       "      <td>33.00000</td>\n",
       "      <td>33.000000</td>\n",
       "      <td>33.000000</td>\n",
       "      <td>33.000000</td>\n",
       "    </tr>\n",
       "    <tr>\n",
       "      <th>mean</th>\n",
       "      <td>44235.818182</td>\n",
       "      <td>3877.621177</td>\n",
       "      <td>4.243939</td>\n",
       "      <td>0.302142</td>\n",
       "      <td>959.776364</td>\n",
       "      <td>4059.741775</td>\n",
       "      <td>0.998893</td>\n",
       "      <td>31456.393939</td>\n",
       "      <td>0.114985</td>\n",
       "      <td>0.003855</td>\n",
       "      <td>0.231394</td>\n",
       "      <td>0.222427</td>\n",
       "      <td>0.427336</td>\n",
       "      <td>26422.850606</td>\n",
       "      <td>551.948788</td>\n",
       "      <td>31409.32303</td>\n",
       "      <td>43157.011515</td>\n",
       "      <td>54512.850909</td>\n",
       "      <td>187511.363636</td>\n",
       "    </tr>\n",
       "    <tr>\n",
       "      <th>std</th>\n",
       "      <td>293.585321</td>\n",
       "      <td>1458.966047</td>\n",
       "      <td>2.339583</td>\n",
       "      <td>0.125828</td>\n",
       "      <td>459.059269</td>\n",
       "      <td>1955.841058</td>\n",
       "      <td>0.368281</td>\n",
       "      <td>15530.332146</td>\n",
       "      <td>0.099823</td>\n",
       "      <td>0.008657</td>\n",
       "      <td>0.129737</td>\n",
       "      <td>0.136419</td>\n",
       "      <td>0.171665</td>\n",
       "      <td>46444.185976</td>\n",
       "      <td>1501.849416</td>\n",
       "      <td>20466.57901</td>\n",
       "      <td>54659.266050</td>\n",
       "      <td>30853.888858</td>\n",
       "      <td>120652.360179</td>\n",
       "    </tr>\n",
       "    <tr>\n",
       "      <th>min</th>\n",
       "      <td>43834.000000</td>\n",
       "      <td>33.000000</td>\n",
       "      <td>2.110000</td>\n",
       "      <td>0.000000</td>\n",
       "      <td>1.940000</td>\n",
       "      <td>8.043921</td>\n",
       "      <td>0.240617</td>\n",
       "      <td>191.000000</td>\n",
       "      <td>0.004000</td>\n",
       "      <td>0.000000</td>\n",
       "      <td>0.010800</td>\n",
       "      <td>0.046500</td>\n",
       "      <td>0.142600</td>\n",
       "      <td>0.000000</td>\n",
       "      <td>0.000000</td>\n",
       "      <td>0.00000</td>\n",
       "      <td>0.000000</td>\n",
       "      <td>0.000000</td>\n",
       "      <td>4435.000000</td>\n",
       "    </tr>\n",
       "    <tr>\n",
       "      <th>25%</th>\n",
       "      <td>43842.000000</td>\n",
       "      <td>3101.000000</td>\n",
       "      <td>2.690000</td>\n",
       "      <td>0.221600</td>\n",
       "      <td>655.210000</td>\n",
       "      <td>2719.102896</td>\n",
       "      <td>0.755014</td>\n",
       "      <td>25019.000000</td>\n",
       "      <td>0.045700</td>\n",
       "      <td>0.000000</td>\n",
       "      <td>0.131500</td>\n",
       "      <td>0.109800</td>\n",
       "      <td>0.305700</td>\n",
       "      <td>3460.030000</td>\n",
       "      <td>1.670000</td>\n",
       "      <td>19461.94000</td>\n",
       "      <td>11115.240000</td>\n",
       "      <td>35631.710000</td>\n",
       "      <td>116432.000000</td>\n",
       "    </tr>\n",
       "    <tr>\n",
       "      <th>50%</th>\n",
       "      <td>44204.000000</td>\n",
       "      <td>4059.000000</td>\n",
       "      <td>3.420000</td>\n",
       "      <td>0.293700</td>\n",
       "      <td>1041.610000</td>\n",
       "      <td>4334.382882</td>\n",
       "      <td>1.013927</td>\n",
       "      <td>28538.000000</td>\n",
       "      <td>0.082900</td>\n",
       "      <td>0.000100</td>\n",
       "      <td>0.194400</td>\n",
       "      <td>0.188500</td>\n",
       "      <td>0.454200</td>\n",
       "      <td>8890.810000</td>\n",
       "      <td>6.330000</td>\n",
       "      <td>29212.74000</td>\n",
       "      <td>21586.310000</td>\n",
       "      <td>48076.240000</td>\n",
       "      <td>137421.000000</td>\n",
       "    </tr>\n",
       "    <tr>\n",
       "      <th>75%</th>\n",
       "      <td>44565.000000</td>\n",
       "      <td>4693.000000</td>\n",
       "      <td>5.170000</td>\n",
       "      <td>0.394600</td>\n",
       "      <td>1204.040000</td>\n",
       "      <td>5297.135000</td>\n",
       "      <td>1.253187</td>\n",
       "      <td>37774.000000</td>\n",
       "      <td>0.150200</td>\n",
       "      <td>0.000400</td>\n",
       "      <td>0.358400</td>\n",
       "      <td>0.305100</td>\n",
       "      <td>0.514900</td>\n",
       "      <td>30374.060000</td>\n",
       "      <td>55.500000</td>\n",
       "      <td>39414.87000</td>\n",
       "      <td>52982.940000</td>\n",
       "      <td>72389.710000</td>\n",
       "      <td>255417.000000</td>\n",
       "    </tr>\n",
       "    <tr>\n",
       "      <th>max</th>\n",
       "      <td>44573.000000</td>\n",
       "      <td>6596.000000</td>\n",
       "      <td>13.770000</td>\n",
       "      <td>0.576900</td>\n",
       "      <td>1879.370000</td>\n",
       "      <td>7799.385500</td>\n",
       "      <td>1.746267</td>\n",
       "      <td>73554.000000</td>\n",
       "      <td>0.403300</td>\n",
       "      <td>0.030800</td>\n",
       "      <td>0.453600</td>\n",
       "      <td>0.516100</td>\n",
       "      <td>0.803600</td>\n",
       "      <td>242310.540000</td>\n",
       "      <td>7674.240000</td>\n",
       "      <td>85124.49000</td>\n",
       "      <td>244317.810000</td>\n",
       "      <td>135379.270000</td>\n",
       "      <td>627492.000000</td>\n",
       "    </tr>\n",
       "  </tbody>\n",
       "</table>\n",
       "</div>"
      ],
      "text/plain": [
       "               Date  Channel Traffic  Pages / Visit  Bounce Rate    Usd Spend  \\\n",
       "count     33.000000        33.000000      33.000000    33.000000    33.000000   \n",
       "mean   44235.818182      3877.621177       4.243939     0.302142   959.776364   \n",
       "std      293.585321      1458.966047       2.339583     0.125828   459.059269   \n",
       "min    43834.000000        33.000000       2.110000     0.000000     1.940000   \n",
       "25%    43842.000000      3101.000000       2.690000     0.221600   655.210000   \n",
       "50%    44204.000000      4059.000000       3.420000     0.293700  1041.610000   \n",
       "75%    44565.000000      4693.000000       5.170000     0.394600  1204.040000   \n",
       "max    44573.000000      6596.000000      13.770000     0.576900  1879.370000   \n",
       "\n",
       "         MYR Spend  Cost Per Visits  Total Paid Search  Display (%)  \\\n",
       "count    33.000000        32.000000          33.000000    33.000000   \n",
       "mean   4059.741775         0.998893       31456.393939     0.114985   \n",
       "std    1955.841058         0.368281       15530.332146     0.099823   \n",
       "min       8.043921         0.240617         191.000000     0.004000   \n",
       "25%    2719.102896         0.755014       25019.000000     0.045700   \n",
       "50%    4334.382882         1.013927       28538.000000     0.082900   \n",
       "75%    5297.135000         1.253187       37774.000000     0.150200   \n",
       "max    7799.385500         1.746267       73554.000000     0.403300   \n",
       "\n",
       "       Email (%)  Search (%)  Referrals (%)  Social (%)  Total Display Spend  \\\n",
       "count  33.000000   33.000000      33.000000   33.000000            33.000000   \n",
       "mean    0.003855    0.231394       0.222427    0.427336         26422.850606   \n",
       "std     0.008657    0.129737       0.136419    0.171665         46444.185976   \n",
       "min     0.000000    0.010800       0.046500    0.142600             0.000000   \n",
       "25%     0.000000    0.131500       0.109800    0.305700          3460.030000   \n",
       "50%     0.000100    0.194400       0.188500    0.454200          8890.810000   \n",
       "75%     0.000400    0.358400       0.305100    0.514900         30374.060000   \n",
       "max     0.030800    0.453600       0.516100    0.803600        242310.540000   \n",
       "\n",
       "       Total Email Spend  Total Search Spend  Total Referrals Spend  \\\n",
       "count          33.000000            33.00000              33.000000   \n",
       "mean          551.948788         31409.32303           43157.011515   \n",
       "std          1501.849416         20466.57901           54659.266050   \n",
       "min             0.000000             0.00000               0.000000   \n",
       "25%             1.670000         19461.94000           11115.240000   \n",
       "50%             6.330000         29212.74000           21586.310000   \n",
       "75%            55.500000         39414.87000           52982.940000   \n",
       "max          7674.240000         85124.49000          244317.810000   \n",
       "\n",
       "       Total Social Spend  Estimated Digital Spend  \n",
       "count           33.000000                33.000000  \n",
       "mean         54512.850909            187511.363636  \n",
       "std          30853.888858            120652.360179  \n",
       "min              0.000000              4435.000000  \n",
       "25%          35631.710000            116432.000000  \n",
       "50%          48076.240000            137421.000000  \n",
       "75%          72389.710000            255417.000000  \n",
       "max         135379.270000            627492.000000  "
      ]
     },
     "execution_count": 7,
     "metadata": {},
     "output_type": "execute_result"
    }
   ],
   "source": [
    "df.describe()"
   ]
  },
  {
   "cell_type": "markdown",
   "id": "c515eb5b-9845-4d08-8741-f84ab65a21b8",
   "metadata": {},
   "source": [
    "to make an easy look, we try to split total spending and percentage of marketing channel spending "
   ]
  },
  {
   "cell_type": "markdown",
   "id": "872366fc-020a-4623-8381-ecc5164d3eaf",
   "metadata": {},
   "source": [
    "### Total Spending"
   ]
  },
  {
   "cell_type": "code",
   "execution_count": 8,
   "id": "8c875cf5-3251-45d4-8cf5-f0df56d22492",
   "metadata": {},
   "outputs": [
    {
     "data": {
      "text/html": [
       "<div>\n",
       "<style scoped>\n",
       "    .dataframe tbody tr th:only-of-type {\n",
       "        vertical-align: middle;\n",
       "    }\n",
       "\n",
       "    .dataframe tbody tr th {\n",
       "        vertical-align: top;\n",
       "    }\n",
       "\n",
       "    .dataframe thead th {\n",
       "        text-align: right;\n",
       "    }\n",
       "</style>\n",
       "<table border=\"1\" class=\"dataframe\">\n",
       "  <thead>\n",
       "    <tr style=\"text-align: right;\">\n",
       "      <th></th>\n",
       "      <th>Total Display Spend</th>\n",
       "      <th>Total Email Spend</th>\n",
       "      <th>Total Search Spend</th>\n",
       "      <th>Total Referrals Spend</th>\n",
       "      <th>Total Social Spend</th>\n",
       "      <th>Estimated Digital Spend</th>\n",
       "      <th>Channel Traffic</th>\n",
       "    </tr>\n",
       "  </thead>\n",
       "  <tbody>\n",
       "    <tr>\n",
       "      <th>0</th>\n",
       "      <td>253.49</td>\n",
       "      <td>0.05</td>\n",
       "      <td>45.88</td>\n",
       "      <td>577.12</td>\n",
       "      <td>3366.85</td>\n",
       "      <td>4435</td>\n",
       "      <td>33.0</td>\n",
       "    </tr>\n",
       "    <tr>\n",
       "      <th>1</th>\n",
       "      <td>195.92</td>\n",
       "      <td>0.09</td>\n",
       "      <td>2355.95</td>\n",
       "      <td>1594.31</td>\n",
       "      <td>16965.67</td>\n",
       "      <td>29113</td>\n",
       "      <td>1215.0</td>\n",
       "    </tr>\n",
       "    <tr>\n",
       "      <th>2</th>\n",
       "      <td>4499.52</td>\n",
       "      <td>2.91</td>\n",
       "      <td>17532.27</td>\n",
       "      <td>26644.24</td>\n",
       "      <td>53670.69</td>\n",
       "      <td>116432</td>\n",
       "      <td>2175.0</td>\n",
       "    </tr>\n",
       "    <tr>\n",
       "      <th>3</th>\n",
       "      <td>79412.16</td>\n",
       "      <td>5.09</td>\n",
       "      <td>28417.45</td>\n",
       "      <td>167820.42</td>\n",
       "      <td>53335.14</td>\n",
       "      <td>357488</td>\n",
       "      <td>2727.0</td>\n",
       "    </tr>\n",
       "    <tr>\n",
       "      <th>4</th>\n",
       "      <td>14483.37</td>\n",
       "      <td>2.19</td>\n",
       "      <td>10737.68</td>\n",
       "      <td>28023.10</td>\n",
       "      <td>23439.52</td>\n",
       "      <td>101399</td>\n",
       "      <td>3105.0</td>\n",
       "    </tr>\n",
       "  </tbody>\n",
       "</table>\n",
       "</div>"
      ],
      "text/plain": [
       "   Total Display Spend  Total Email Spend  Total Search Spend  \\\n",
       "0               253.49               0.05               45.88   \n",
       "1               195.92               0.09             2355.95   \n",
       "2              4499.52               2.91            17532.27   \n",
       "3             79412.16               5.09            28417.45   \n",
       "4             14483.37               2.19            10737.68   \n",
       "\n",
       "   Total Referrals Spend  Total Social Spend  Estimated Digital Spend  \\\n",
       "0                 577.12             3366.85                     4435   \n",
       "1                1594.31            16965.67                    29113   \n",
       "2               26644.24            53670.69                   116432   \n",
       "3              167820.42            53335.14                   357488   \n",
       "4               28023.10            23439.52                   101399   \n",
       "\n",
       "   Channel Traffic  \n",
       "0             33.0  \n",
       "1           1215.0  \n",
       "2           2175.0  \n",
       "3           2727.0  \n",
       "4           3105.0  "
      ]
     },
     "execution_count": 8,
     "metadata": {},
     "output_type": "execute_result"
    }
   ],
   "source": [
    "df_total = df[['Total Display Spend',\n",
    "       'Total Email Spend', 'Total Search Spend', 'Total Referrals Spend',\n",
    "       'Total Social Spend', 'Estimated Digital Spend','Channel Traffic']]\n",
    "df_total.head()"
   ]
  },
  {
   "cell_type": "code",
   "execution_count": 10,
   "id": "b33edc40-fd9d-40fe-b50e-a8fc0274d898",
   "metadata": {},
   "outputs": [
    {
     "data": {
      "text/html": [
       "<div>\n",
       "<style scoped>\n",
       "    .dataframe tbody tr th:only-of-type {\n",
       "        vertical-align: middle;\n",
       "    }\n",
       "\n",
       "    .dataframe tbody tr th {\n",
       "        vertical-align: top;\n",
       "    }\n",
       "\n",
       "    .dataframe thead th {\n",
       "        text-align: right;\n",
       "    }\n",
       "</style>\n",
       "<table border=\"1\" class=\"dataframe\">\n",
       "  <thead>\n",
       "    <tr style=\"text-align: right;\">\n",
       "      <th></th>\n",
       "      <th>Total Display Spend</th>\n",
       "      <th>Total Email Spend</th>\n",
       "      <th>Total Search Spend</th>\n",
       "      <th>Total Referrals Spend</th>\n",
       "      <th>Total Social Spend</th>\n",
       "      <th>Estimated Digital Spend</th>\n",
       "      <th>Channel Traffic</th>\n",
       "    </tr>\n",
       "  </thead>\n",
       "  <tbody>\n",
       "    <tr>\n",
       "      <th>count</th>\n",
       "      <td>33.000000</td>\n",
       "      <td>33.000000</td>\n",
       "      <td>33.00000</td>\n",
       "      <td>33.000000</td>\n",
       "      <td>33.000000</td>\n",
       "      <td>33.000000</td>\n",
       "      <td>33.000000</td>\n",
       "    </tr>\n",
       "    <tr>\n",
       "      <th>mean</th>\n",
       "      <td>26422.850606</td>\n",
       "      <td>551.948788</td>\n",
       "      <td>31409.32303</td>\n",
       "      <td>43157.011515</td>\n",
       "      <td>54512.850909</td>\n",
       "      <td>187511.363636</td>\n",
       "      <td>3877.621177</td>\n",
       "    </tr>\n",
       "    <tr>\n",
       "      <th>std</th>\n",
       "      <td>46444.185976</td>\n",
       "      <td>1501.849416</td>\n",
       "      <td>20466.57901</td>\n",
       "      <td>54659.266050</td>\n",
       "      <td>30853.888858</td>\n",
       "      <td>120652.360179</td>\n",
       "      <td>1458.966047</td>\n",
       "    </tr>\n",
       "    <tr>\n",
       "      <th>min</th>\n",
       "      <td>0.000000</td>\n",
       "      <td>0.000000</td>\n",
       "      <td>0.00000</td>\n",
       "      <td>0.000000</td>\n",
       "      <td>0.000000</td>\n",
       "      <td>4435.000000</td>\n",
       "      <td>33.000000</td>\n",
       "    </tr>\n",
       "    <tr>\n",
       "      <th>25%</th>\n",
       "      <td>3460.030000</td>\n",
       "      <td>1.670000</td>\n",
       "      <td>19461.94000</td>\n",
       "      <td>11115.240000</td>\n",
       "      <td>35631.710000</td>\n",
       "      <td>116432.000000</td>\n",
       "      <td>3101.000000</td>\n",
       "    </tr>\n",
       "    <tr>\n",
       "      <th>50%</th>\n",
       "      <td>8890.810000</td>\n",
       "      <td>6.330000</td>\n",
       "      <td>29212.74000</td>\n",
       "      <td>21586.310000</td>\n",
       "      <td>48076.240000</td>\n",
       "      <td>137421.000000</td>\n",
       "      <td>4059.000000</td>\n",
       "    </tr>\n",
       "    <tr>\n",
       "      <th>75%</th>\n",
       "      <td>30374.060000</td>\n",
       "      <td>55.500000</td>\n",
       "      <td>39414.87000</td>\n",
       "      <td>52982.940000</td>\n",
       "      <td>72389.710000</td>\n",
       "      <td>255417.000000</td>\n",
       "      <td>4693.000000</td>\n",
       "    </tr>\n",
       "    <tr>\n",
       "      <th>max</th>\n",
       "      <td>242310.540000</td>\n",
       "      <td>7674.240000</td>\n",
       "      <td>85124.49000</td>\n",
       "      <td>244317.810000</td>\n",
       "      <td>135379.270000</td>\n",
       "      <td>627492.000000</td>\n",
       "      <td>6596.000000</td>\n",
       "    </tr>\n",
       "  </tbody>\n",
       "</table>\n",
       "</div>"
      ],
      "text/plain": [
       "       Total Display Spend  Total Email Spend  Total Search Spend  \\\n",
       "count            33.000000          33.000000            33.00000   \n",
       "mean          26422.850606         551.948788         31409.32303   \n",
       "std           46444.185976        1501.849416         20466.57901   \n",
       "min               0.000000           0.000000             0.00000   \n",
       "25%            3460.030000           1.670000         19461.94000   \n",
       "50%            8890.810000           6.330000         29212.74000   \n",
       "75%           30374.060000          55.500000         39414.87000   \n",
       "max          242310.540000        7674.240000         85124.49000   \n",
       "\n",
       "       Total Referrals Spend  Total Social Spend  Estimated Digital Spend  \\\n",
       "count              33.000000           33.000000                33.000000   \n",
       "mean            43157.011515        54512.850909            187511.363636   \n",
       "std             54659.266050        30853.888858            120652.360179   \n",
       "min                 0.000000            0.000000              4435.000000   \n",
       "25%             11115.240000        35631.710000            116432.000000   \n",
       "50%             21586.310000        48076.240000            137421.000000   \n",
       "75%             52982.940000        72389.710000            255417.000000   \n",
       "max            244317.810000       135379.270000            627492.000000   \n",
       "\n",
       "       Channel Traffic  \n",
       "count        33.000000  \n",
       "mean       3877.621177  \n",
       "std        1458.966047  \n",
       "min          33.000000  \n",
       "25%        3101.000000  \n",
       "50%        4059.000000  \n",
       "75%        4693.000000  \n",
       "max        6596.000000  "
      ]
     },
     "execution_count": 10,
     "metadata": {},
     "output_type": "execute_result"
    }
   ],
   "source": [
    "df_total.describe()"
   ]
  },
  {
   "cell_type": "markdown",
   "id": "863c72cc-9af5-4624-a36b-304241edb5b7",
   "metadata": {},
   "source": [
    "### Percentage of spending"
   ]
  },
  {
   "cell_type": "code",
   "execution_count": 9,
   "id": "b23bb928-f994-489a-87ee-d9f550e66e3a",
   "metadata": {},
   "outputs": [
    {
     "data": {
      "text/html": [
       "<div>\n",
       "<style scoped>\n",
       "    .dataframe tbody tr th:only-of-type {\n",
       "        vertical-align: middle;\n",
       "    }\n",
       "\n",
       "    .dataframe tbody tr th {\n",
       "        vertical-align: top;\n",
       "    }\n",
       "\n",
       "    .dataframe thead th {\n",
       "        text-align: right;\n",
       "    }\n",
       "</style>\n",
       "<table border=\"1\" class=\"dataframe\">\n",
       "  <thead>\n",
       "    <tr style=\"text-align: right;\">\n",
       "      <th></th>\n",
       "      <th>Display (%)</th>\n",
       "      <th>Email (%)</th>\n",
       "      <th>Search (%)</th>\n",
       "      <th>Referrals (%)</th>\n",
       "      <th>Social (%)</th>\n",
       "    </tr>\n",
       "  </thead>\n",
       "  <tbody>\n",
       "    <tr>\n",
       "      <th>0</th>\n",
       "      <td>0.0597</td>\n",
       "      <td>0.0</td>\n",
       "      <td>0.0108</td>\n",
       "      <td>0.1360</td>\n",
       "      <td>0.7934</td>\n",
       "    </tr>\n",
       "    <tr>\n",
       "      <th>1</th>\n",
       "      <td>0.0093</td>\n",
       "      <td>0.0</td>\n",
       "      <td>0.1116</td>\n",
       "      <td>0.0755</td>\n",
       "      <td>0.8036</td>\n",
       "    </tr>\n",
       "    <tr>\n",
       "      <th>2</th>\n",
       "      <td>0.0440</td>\n",
       "      <td>0.0</td>\n",
       "      <td>0.1713</td>\n",
       "      <td>0.2603</td>\n",
       "      <td>0.5244</td>\n",
       "    </tr>\n",
       "    <tr>\n",
       "      <th>3</th>\n",
       "      <td>0.2414</td>\n",
       "      <td>0.0</td>\n",
       "      <td>0.0864</td>\n",
       "      <td>0.5101</td>\n",
       "      <td>0.1621</td>\n",
       "    </tr>\n",
       "    <tr>\n",
       "      <th>4</th>\n",
       "      <td>0.1889</td>\n",
       "      <td>0.0</td>\n",
       "      <td>0.1400</td>\n",
       "      <td>0.3654</td>\n",
       "      <td>0.3057</td>\n",
       "    </tr>\n",
       "  </tbody>\n",
       "</table>\n",
       "</div>"
      ],
      "text/plain": [
       "   Display (%)  Email (%)  Search (%)  Referrals (%)  Social (%)\n",
       "0       0.0597        0.0      0.0108         0.1360      0.7934\n",
       "1       0.0093        0.0      0.1116         0.0755      0.8036\n",
       "2       0.0440        0.0      0.1713         0.2603      0.5244\n",
       "3       0.2414        0.0      0.0864         0.5101      0.1621\n",
       "4       0.1889        0.0      0.1400         0.3654      0.3057"
      ]
     },
     "execution_count": 9,
     "metadata": {},
     "output_type": "execute_result"
    }
   ],
   "source": [
    "df_percetage_channel = df[[ 'Display (%)', 'Email (%)', 'Search (%)',\n",
    "       'Referrals (%)', 'Social (%)']]\n",
    "df_percetage_channel.head()"
   ]
  },
  {
   "cell_type": "code",
   "execution_count": 11,
   "id": "bfdf6574-c112-4829-814d-177a2e418848",
   "metadata": {},
   "outputs": [
    {
     "data": {
      "text/html": [
       "<div>\n",
       "<style scoped>\n",
       "    .dataframe tbody tr th:only-of-type {\n",
       "        vertical-align: middle;\n",
       "    }\n",
       "\n",
       "    .dataframe tbody tr th {\n",
       "        vertical-align: top;\n",
       "    }\n",
       "\n",
       "    .dataframe thead th {\n",
       "        text-align: right;\n",
       "    }\n",
       "</style>\n",
       "<table border=\"1\" class=\"dataframe\">\n",
       "  <thead>\n",
       "    <tr style=\"text-align: right;\">\n",
       "      <th></th>\n",
       "      <th>Display (%)</th>\n",
       "      <th>Email (%)</th>\n",
       "      <th>Search (%)</th>\n",
       "      <th>Referrals (%)</th>\n",
       "      <th>Social (%)</th>\n",
       "    </tr>\n",
       "  </thead>\n",
       "  <tbody>\n",
       "    <tr>\n",
       "      <th>count</th>\n",
       "      <td>33.000000</td>\n",
       "      <td>33.000000</td>\n",
       "      <td>33.000000</td>\n",
       "      <td>33.000000</td>\n",
       "      <td>33.000000</td>\n",
       "    </tr>\n",
       "    <tr>\n",
       "      <th>mean</th>\n",
       "      <td>0.114985</td>\n",
       "      <td>0.003855</td>\n",
       "      <td>0.231394</td>\n",
       "      <td>0.222427</td>\n",
       "      <td>0.427336</td>\n",
       "    </tr>\n",
       "    <tr>\n",
       "      <th>std</th>\n",
       "      <td>0.099823</td>\n",
       "      <td>0.008657</td>\n",
       "      <td>0.129737</td>\n",
       "      <td>0.136419</td>\n",
       "      <td>0.171665</td>\n",
       "    </tr>\n",
       "    <tr>\n",
       "      <th>min</th>\n",
       "      <td>0.004000</td>\n",
       "      <td>0.000000</td>\n",
       "      <td>0.010800</td>\n",
       "      <td>0.046500</td>\n",
       "      <td>0.142600</td>\n",
       "    </tr>\n",
       "    <tr>\n",
       "      <th>25%</th>\n",
       "      <td>0.045700</td>\n",
       "      <td>0.000000</td>\n",
       "      <td>0.131500</td>\n",
       "      <td>0.109800</td>\n",
       "      <td>0.305700</td>\n",
       "    </tr>\n",
       "    <tr>\n",
       "      <th>50%</th>\n",
       "      <td>0.082900</td>\n",
       "      <td>0.000100</td>\n",
       "      <td>0.194400</td>\n",
       "      <td>0.188500</td>\n",
       "      <td>0.454200</td>\n",
       "    </tr>\n",
       "    <tr>\n",
       "      <th>75%</th>\n",
       "      <td>0.150200</td>\n",
       "      <td>0.000400</td>\n",
       "      <td>0.358400</td>\n",
       "      <td>0.305100</td>\n",
       "      <td>0.514900</td>\n",
       "    </tr>\n",
       "    <tr>\n",
       "      <th>max</th>\n",
       "      <td>0.403300</td>\n",
       "      <td>0.030800</td>\n",
       "      <td>0.453600</td>\n",
       "      <td>0.516100</td>\n",
       "      <td>0.803600</td>\n",
       "    </tr>\n",
       "  </tbody>\n",
       "</table>\n",
       "</div>"
      ],
      "text/plain": [
       "       Display (%)  Email (%)  Search (%)  Referrals (%)  Social (%)\n",
       "count    33.000000  33.000000   33.000000      33.000000   33.000000\n",
       "mean      0.114985   0.003855    0.231394       0.222427    0.427336\n",
       "std       0.099823   0.008657    0.129737       0.136419    0.171665\n",
       "min       0.004000   0.000000    0.010800       0.046500    0.142600\n",
       "25%       0.045700   0.000000    0.131500       0.109800    0.305700\n",
       "50%       0.082900   0.000100    0.194400       0.188500    0.454200\n",
       "75%       0.150200   0.000400    0.358400       0.305100    0.514900\n",
       "max       0.403300   0.030800    0.453600       0.516100    0.803600"
      ]
     },
     "execution_count": 11,
     "metadata": {},
     "output_type": "execute_result"
    }
   ],
   "source": [
    "df_percetage_channel.describe()"
   ]
  },
  {
   "cell_type": "markdown",
   "id": "e41d6243-7a8a-4d78-aa25-d3c2f0a7f740",
   "metadata": {},
   "source": [
    "a. here we can say that traffic average is around 3.8K with highest traffics for last 3 years is 6.5K in a month.\n",
    "\n",
    "b. Monthly average of Estimated Digital Spend is around 18K, with the highest digital budgeting is around 627K for a month. "
   ]
  },
  {
   "cell_type": "markdown",
   "id": "02248edd-56fc-443f-8352-bb3db497a22b",
   "metadata": {},
   "source": [
    "## Correlation "
   ]
  },
  {
   "cell_type": "code",
   "execution_count": 9,
   "id": "3a6e18b9-770e-404d-a706-5ab71d95b75e",
   "metadata": {},
   "outputs": [
    {
     "data": {
      "text/html": [
       "<div>\n",
       "<style scoped>\n",
       "    .dataframe tbody tr th:only-of-type {\n",
       "        vertical-align: middle;\n",
       "    }\n",
       "\n",
       "    .dataframe tbody tr th {\n",
       "        vertical-align: top;\n",
       "    }\n",
       "\n",
       "    .dataframe thead th {\n",
       "        text-align: right;\n",
       "    }\n",
       "</style>\n",
       "<table border=\"1\" class=\"dataframe\">\n",
       "  <thead>\n",
       "    <tr style=\"text-align: right;\">\n",
       "      <th></th>\n",
       "      <th>Total Display Spend</th>\n",
       "      <th>Total Email Spend</th>\n",
       "      <th>Total Search Spend</th>\n",
       "      <th>Total Referrals Spend</th>\n",
       "      <th>Total Social Spend</th>\n",
       "      <th>Estimated Digital Spend</th>\n",
       "      <th>Channel Traffic</th>\n",
       "    </tr>\n",
       "  </thead>\n",
       "  <tbody>\n",
       "    <tr>\n",
       "      <th>Total Display Spend</th>\n",
       "      <td>1.000000</td>\n",
       "      <td>0.068691</td>\n",
       "      <td>-0.010548</td>\n",
       "      <td>0.925024</td>\n",
       "      <td>0.238142</td>\n",
       "      <td>0.864338</td>\n",
       "      <td>-0.076696</td>\n",
       "    </tr>\n",
       "    <tr>\n",
       "      <th>Total Email Spend</th>\n",
       "      <td>0.068691</td>\n",
       "      <td>1.000000</td>\n",
       "      <td>0.262295</td>\n",
       "      <td>-0.049343</td>\n",
       "      <td>0.458149</td>\n",
       "      <td>0.195079</td>\n",
       "      <td>0.200595</td>\n",
       "    </tr>\n",
       "    <tr>\n",
       "      <th>Total Search Spend</th>\n",
       "      <td>-0.010548</td>\n",
       "      <td>0.262295</td>\n",
       "      <td>1.000000</td>\n",
       "      <td>-0.007659</td>\n",
       "      <td>0.659192</td>\n",
       "      <td>0.436707</td>\n",
       "      <td>0.629692</td>\n",
       "    </tr>\n",
       "    <tr>\n",
       "      <th>Total Referrals Spend</th>\n",
       "      <td>0.925024</td>\n",
       "      <td>-0.049343</td>\n",
       "      <td>-0.007659</td>\n",
       "      <td>1.000000</td>\n",
       "      <td>0.183650</td>\n",
       "      <td>0.854679</td>\n",
       "      <td>-0.079669</td>\n",
       "    </tr>\n",
       "    <tr>\n",
       "      <th>Total Social Spend</th>\n",
       "      <td>0.238142</td>\n",
       "      <td>0.458149</td>\n",
       "      <td>0.659192</td>\n",
       "      <td>0.183650</td>\n",
       "      <td>1.000000</td>\n",
       "      <td>0.604470</td>\n",
       "      <td>0.272139</td>\n",
       "    </tr>\n",
       "    <tr>\n",
       "      <th>Estimated Digital Spend</th>\n",
       "      <td>0.864338</td>\n",
       "      <td>0.195079</td>\n",
       "      <td>0.436707</td>\n",
       "      <td>0.854679</td>\n",
       "      <td>0.604470</td>\n",
       "      <td>1.000000</td>\n",
       "      <td>0.214893</td>\n",
       "    </tr>\n",
       "    <tr>\n",
       "      <th>Channel Traffic</th>\n",
       "      <td>-0.076696</td>\n",
       "      <td>0.200595</td>\n",
       "      <td>0.629692</td>\n",
       "      <td>-0.079669</td>\n",
       "      <td>0.272139</td>\n",
       "      <td>0.214893</td>\n",
       "      <td>1.000000</td>\n",
       "    </tr>\n",
       "  </tbody>\n",
       "</table>\n",
       "</div>"
      ],
      "text/plain": [
       "                         Total Display Spend  Total Email Spend  \\\n",
       "Total Display Spend                 1.000000           0.068691   \n",
       "Total Email Spend                   0.068691           1.000000   \n",
       "Total Search Spend                 -0.010548           0.262295   \n",
       "Total Referrals Spend               0.925024          -0.049343   \n",
       "Total Social Spend                  0.238142           0.458149   \n",
       "Estimated Digital Spend             0.864338           0.195079   \n",
       "Channel Traffic                    -0.076696           0.200595   \n",
       "\n",
       "                         Total Search Spend  Total Referrals Spend  \\\n",
       "Total Display Spend               -0.010548               0.925024   \n",
       "Total Email Spend                  0.262295              -0.049343   \n",
       "Total Search Spend                 1.000000              -0.007659   \n",
       "Total Referrals Spend             -0.007659               1.000000   \n",
       "Total Social Spend                 0.659192               0.183650   \n",
       "Estimated Digital Spend            0.436707               0.854679   \n",
       "Channel Traffic                    0.629692              -0.079669   \n",
       "\n",
       "                         Total Social Spend  Estimated Digital Spend  \\\n",
       "Total Display Spend                0.238142                 0.864338   \n",
       "Total Email Spend                  0.458149                 0.195079   \n",
       "Total Search Spend                 0.659192                 0.436707   \n",
       "Total Referrals Spend              0.183650                 0.854679   \n",
       "Total Social Spend                 1.000000                 0.604470   \n",
       "Estimated Digital Spend            0.604470                 1.000000   \n",
       "Channel Traffic                    0.272139                 0.214893   \n",
       "\n",
       "                         Channel Traffic  \n",
       "Total Display Spend            -0.076696  \n",
       "Total Email Spend               0.200595  \n",
       "Total Search Spend              0.629692  \n",
       "Total Referrals Spend          -0.079669  \n",
       "Total Social Spend              0.272139  \n",
       "Estimated Digital Spend         0.214893  \n",
       "Channel Traffic                 1.000000  "
      ]
     },
     "execution_count": 9,
     "metadata": {},
     "output_type": "execute_result"
    }
   ],
   "source": [
    "df_total.corr()"
   ]
  },
  {
   "cell_type": "code",
   "execution_count": 10,
   "id": "47c176c9-8f0b-4a23-bc0d-e9428c32eb7a",
   "metadata": {},
   "outputs": [
    {
     "data": {
      "image/png": "[encoded data removed]",
      "text/plain": [
       "<Figure size 648x504 with 2 Axes>"
      ]
     },
     "metadata": {
      "needs_background": "light"
     },
     "output_type": "display_data"
    }
   ],
   "source": [
    "# setting the dimensions of the plot\n",
    "plt.figure(figsize=(9,7))\n",
    "\n",
    "data_heatmap = sns.heatmap(df_total.corr(), cmap=\"YlGnBu\", annot=True)"
   ]
  },
  {
   "cell_type": "markdown",
   "id": "b65007b5-ecc3-479c-9e3b-f6921d8e838f",
   "metadata": {},
   "source": [
    "a. Search channel has big correlation for channel traffics, followed by Social and Email channel to contribute\n",
    "\n",
    "b. Display and Referrals has opposite correlation for channel traffics, we have to pay attention to whether to use this channel for further marketing or not"
   ]
  },
  {
   "cell_type": "markdown",
   "id": "361d59b8-6441-4859-9670-da01429dca14",
   "metadata": {},
   "source": [
    "## Build the model"
   ]
  },
  {
   "cell_type": "markdown",
   "id": "9edfca4f-9f74-4913-a31d-307db741b0de",
   "metadata": {},
   "source": [
    "the model using multivariate regression"
   ]
  },
  {
   "cell_type": "code",
   "execution_count": 12,
   "id": "df8f0100-42e7-40b7-9606-fc561903fcbc",
   "metadata": {},
   "outputs": [],
   "source": [
    "# split X and y\n",
    "X = df_total[['Total Display Spend', 'Total Email Spend', 'Total Search Spend',\n",
    "       'Total Referrals Spend', 'Total Social Spend']]\n",
    "y =df_total[['Channel Traffic']]"
   ]
  },
  {
   "cell_type": "code",
   "execution_count": 13,
   "id": "aeffcb36-009b-45c3-9ea8-377a97a9b352",
   "metadata": {},
   "outputs": [],
   "source": [
    "from sklearn import linear_model"
   ]
  },
  {
   "cell_type": "code",
   "execution_count": 14,
   "id": "587343a9-8f01-499c-883f-c9117c69998e",
   "metadata": {},
   "outputs": [
    {
     "data": {
      "text/plain": [
       "LinearRegression()"
      ]
     },
     "execution_count": 14,
     "metadata": {},
     "output_type": "execute_result"
    }
   ],
   "source": [
    "regr = linear_model.LinearRegression()\n",
    "regr.fit(X, y)"
   ]
  },
  {
   "cell_type": "code",
   "execution_count": 15,
   "id": "9cc82576-fdce-4d44-9d2e-274ca71840f8",
   "metadata": {},
   "outputs": [
    {
     "name": "stdout",
     "output_type": "stream",
     "text": [
      "[[ 0.00149368  0.12662071  0.05758108 -0.00138612 -0.01521814]]\n"
     ]
    }
   ],
   "source": [
    "print(regr.coef_)"
   ]
  },
  {
   "cell_type": "markdown",
   "id": "800ec5f0-bb65-446f-8b30-8328bef595af",
   "metadata": {},
   "source": [
    "## let's have some scenario here to find a strategy to distribut the marketing spending"
   ]
  },
  {
   "cell_type": "markdown",
   "id": "35beb0a7-992c-4b50-94c5-871508f66c44",
   "metadata": {},
   "source": [
    "first we need to know how much their monthly spending for digital marketing, so we can use it as a based for next monthly spending"
   ]
  },
  {
   "cell_type": "code",
   "execution_count": 20,
   "id": "1bfde3d5-8e95-4058-9d28-df448e7d2c5f",
   "metadata": {},
   "outputs": [
    {
     "data": {
      "text/plain": [
       "Total Display Spend         26422.850606\n",
       "Total Email Spend             551.948788\n",
       "Total Search Spend          31409.323030\n",
       "Total Referrals Spend       43157.011515\n",
       "Total Social Spend          54512.850909\n",
       "Estimated Digital Spend    187511.363636\n",
       "Channel Traffic              3877.621177\n",
       "dtype: float64"
      ]
     },
     "execution_count": 20,
     "metadata": {},
     "output_type": "execute_result"
    }
   ],
   "source": [
    "df_total.mean()"
   ]
  },
  {
   "cell_type": "markdown",
   "id": "851469c7-5296-4df4-828c-e8b037b4eaad",
   "metadata": {},
   "source": [
    "## First scenario"
   ]
  },
  {
   "cell_type": "code",
   "execution_count": 18,
   "id": "90be72c1-94b5-4f93-a19b-4cf23360d62b",
   "metadata": {},
   "outputs": [],
   "source": [
    "Estimated_Digital_Spend = 187511.363636 #average of estimated spending for last 3 years"
   ]
  },
  {
   "cell_type": "code",
   "execution_count": 19,
   "id": "52d415fd-acc0-4d00-adef-ac0a3b737ee6",
   "metadata": {},
   "outputs": [],
   "source": [
    "# using percentage with highest traffics to study whether the traffics will increase\n",
    "Display = Estimated_Digital_Spend*0.004\n",
    "Email = Estimated_Digital_Spend*0.0001\n",
    "Search = Estimated_Digital_Spend*0.4139\n",
    "Referrals = Estimated_Digital_Spend*0.105\n",
    "Social = Estimated_Digital_Spend*0.477"
   ]
  },
  {
   "cell_type": "code",
   "execution_count": 20,
   "id": "4956161d-0b47-41cc-9b98-564e10aea6ee",
   "metadata": {},
   "outputs": [
    {
     "name": "stdout",
     "output_type": "stream",
     "text": [
      "Estimated_Digital_Spend_for Display:  750.045454544\n",
      "Estimated_Digital_Spend_for Email:  18.7511363636\n",
      "Estimated_Digital_Spend_for Search:  77610.95340894039\n",
      "Estimated_Digital_Spend_for Refferals:  19688.69318178\n",
      "Estimated_Digital_Spend_for Social:  89442.920454372\n"
     ]
    }
   ],
   "source": [
    "print(\"Estimated_Digital_Spend_for Display: \", Display)\n",
    "print(\"Estimated_Digital_Spend_for Email: \", Email)\n",
    "print(\"Estimated_Digital_Spend_for Search: \", Search)\n",
    "print(\"Estimated_Digital_Spend_for Refferals: \", Referrals)\n",
    "print(\"Estimated_Digital_Spend_for Social: \", Social)"
   ]
  },
  {
   "cell_type": "code",
   "execution_count": 21,
   "id": "520706a7-2a98-4896-a4a2-69f1284491b5",
   "metadata": {},
   "outputs": [
    {
     "name": "stderr",
     "output_type": "stream",
     "text": [
      "C:\\Users\\ahmad\\anaconda3\\lib\\site-packages\\sklearn\\base.py:450: UserWarning: X does not have valid feature names, but LinearRegression was fitted with feature names\n",
      "  warnings.warn(\n"
     ]
    },
    {
     "data": {
      "text/plain": [
       "array([[5933.05935055]])"
      ]
     },
     "execution_count": 21,
     "metadata": {},
     "output_type": "execute_result"
    }
   ],
   "source": [
    "predicted_channel_traffics = regr.predict([[Display, Email, Search, Referrals, Social]])\n",
    "predicted_channel_traffics"
   ]
  },
  {
   "cell_type": "markdown",
   "id": "80436b71-0e20-4b64-9cd0-6b080aa731b1",
   "metadata": {},
   "source": [
    "the result increase 53% of traffics average for last  3 years, and not beat the highest traffics (6596)"
   ]
  },
  {
   "cell_type": "markdown",
   "id": "7551313d-5a69-4d80-8502-1f914baefca5",
   "metadata": {},
   "source": [
    "## Second scenario"
   ]
  },
  {
   "cell_type": "code",
   "execution_count": 22,
   "id": "da84a535-990e-457a-8d87-de80df6d4966",
   "metadata": {},
   "outputs": [],
   "source": [
    "Display1 = Estimated_Digital_Spend*0.05\n",
    "Email1 = Estimated_Digital_Spend*0.15\n",
    "Search1 = Estimated_Digital_Spend*0.50\n",
    "Referrals1 = Estimated_Digital_Spend*0.00\n",
    "Social1 = Estimated_Digital_Spend*0.30"
   ]
  },
  {
   "cell_type": "code",
   "execution_count": 26,
   "id": "6abb5dc3-48ab-4731-93bd-ab65d10ce040",
   "metadata": {},
   "outputs": [
    {
     "name": "stderr",
     "output_type": "stream",
     "text": [
      "C:\\Users\\ahmad\\anaconda3\\lib\\site-packages\\sklearn\\base.py:450: UserWarning: X does not have valid feature names, but LinearRegression was fitted with feature names\n",
      "  warnings.warn(\n"
     ]
    },
    {
     "data": {
      "text/plain": [
       "array([[10966.99659675]])"
      ]
     },
     "execution_count": 26,
     "metadata": {},
     "output_type": "execute_result"
    }
   ],
   "source": [
    "predicted_channel_traffics1 = regr.predict([[Display1, Email1 , Search1, Referrals1, Social1]])\n",
    "predicted_channel_traffics1"
   ]
  },
  {
   "cell_type": "markdown",
   "id": "7c26c6e9-e36d-4f64-a1d0-f0a8b1b12340",
   "metadata": {},
   "source": [
    "Percetage manipulation will increace the traffic up to 66% of highest traffics from the last 3 years"
   ]
  },
  {
   "cell_type": "markdown",
   "id": "16bf992a-5ae9-477f-80a4-67ef352c0ec3",
   "metadata": {},
   "source": [
    "## Thrid scenario"
   ]
  },
  {
   "cell_type": "code",
   "execution_count": 27,
   "id": "ed771c86-5fd8-405f-a24d-902f7e9058fe",
   "metadata": {},
   "outputs": [
    {
     "data": {
      "text/plain": [
       "225013.6363632"
      ]
     },
     "execution_count": 27,
     "metadata": {},
     "output_type": "execute_result"
    }
   ],
   "source": [
    "Estimated_Digital_Spend = 187511.363636\n",
    "Estimated_Digital_Spend_up20 = 187511.363636+(187511.363636*0.2)\n",
    "Estimated_Digital_Spend_up20"
   ]
  },
  {
   "cell_type": "code",
   "execution_count": 28,
   "id": "1dd09d62-9cdb-42a5-868f-5b58a3ab6eb4",
   "metadata": {},
   "outputs": [],
   "source": [
    "Display2 = Estimated_Digital_Spend_up20*0.05\n",
    "Email2 = Estimated_Digital_Spend_up20*0.15\n",
    "Search2 = Estimated_Digital_Spend_up20*0.50\n",
    "Referrals2 = Estimated_Digital_Spend_up20*0.00\n",
    "Social2 = Estimated_Digital_Spend_up20*0.30"
   ]
  },
  {
   "cell_type": "code",
   "execution_count": 29,
   "id": "3d49f70b-5eda-483b-b70a-6f4595cda237",
   "metadata": {},
   "outputs": [
    {
     "name": "stderr",
     "output_type": "stream",
     "text": [
      "C:\\Users\\ahmad\\anaconda3\\lib\\site-packages\\sklearn\\base.py:450: UserWarning: X does not have valid feature names, but LinearRegression was fitted with feature names\n",
      "  warnings.warn(\n"
     ]
    },
    {
     "data": {
      "text/plain": [
       "array([[12590.5782682]])"
      ]
     },
     "execution_count": 29,
     "metadata": {},
     "output_type": "execute_result"
    }
   ],
   "source": [
    "predicted_channel_traffics2 = regr.predict([[Display2, Email2 , Search2, Referrals2, Social2]])\n",
    "predicted_channel_traffics2"
   ]
  },
  {
   "cell_type": "markdown",
   "id": "401e7cc4-4a2a-4da8-afe2-7b7d91bb109b",
   "metadata": {},
   "source": [
    "Percetage manipulation and with increasing the spending will grow the traffic up to 90% of highest traffics from the last 3 years"
   ]
  },
  {
   "cell_type": "markdown",
   "id": "02278e01-c08f-4b6f-bb95-442ae78673f4",
   "metadata": {},
   "source": [
    "## Refferences:\n",
    "\n",
    "https://www.sciencedirect.com/topics/social-sciences/multiple-regression#:~:text=Multiple%20regression%20is%20a%20statistical,of%20the%20single%20dependent%20value.\n",
    "\n",
    "https://www.w3schools.com/python/python_ml_multiple_regression.asp"
   ]
  }
 ],
 "metadata": {
  "kernelspec": {
   "display_name": "Python 3 (ipykernel)",
   "language": "python",
   "name": "python3"
  },
  "language_info": {
   "codemirror_mode": {
    "name": "ipython",
    "version": 3
   },
   "file_extension": ".py",
   "mimetype": "text/x-python",
   "name": "python",
   "nbconvert_exporter": "python",
   "pygments_lexer": "ipython3",
   "version": "3.9.12"
  }
 },
 "nbformat": 4,
 "nbformat_minor": 5
}
